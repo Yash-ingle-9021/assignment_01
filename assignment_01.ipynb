{
 "cells": [
  {
   "cell_type": "code",
   "execution_count": 1,
   "metadata": {},
   "outputs": [
    {
     "name": "stdout",
     "output_type": "stream",
     "text": [
      " 29th jan :- ASSIGNMENT_01\n"
     ]
    }
   ],
   "source": [
    "print(\" 29th jan :- ASSIGNMENT_01\")"
   ]
  },
  {
   "cell_type": "code",
   "execution_count": 3,
   "metadata": {},
   "outputs": [
    {
     "name": "stdout",
     "output_type": "stream",
     "text": [
      "Q_1_ANS :-  Guido van Rossum\n"
     ]
    }
   ],
   "source": [
    "print(\"Q_1_ANS :-  Guido van Rossum\" )\n"
   ]
  },
  {
   "cell_type": "code",
   "execution_count": 4,
   "metadata": {},
   "outputs": [
    {
     "name": "stdout",
     "output_type": "stream",
     "text": [
      "Q_2_ANS :- OOP(Object Oriented Programing)\n"
     ]
    }
   ],
   "source": [
    "print(\"Q_2_ANS :- OOP(Object Oriented Programming and Structure programming language)\")"
   ]
  },
  {
   "cell_type": "code",
   "execution_count": 5,
   "metadata": {},
   "outputs": [
    {
     "name": "stdout",
     "output_type": "stream",
     "text": [
      "Q_3_ANS :- YES\n"
     ]
    }
   ],
   "source": [
    "print(\"Q_3_ANS :- YES ( python is case sensitive language)\")"
   ]
  },
  {
   "cell_type": "code",
   "execution_count": 6,
   "metadata": {},
   "outputs": [
    {
     "name": "stdout",
     "output_type": "stream",
     "text": [
      "Q_4_ANS :- unkhown.py(py)\n"
     ]
    }
   ],
   "source": [
    "print(\"Q_4_ANS :- unkhown.py(.py)\")"
   ]
  },
  {
   "cell_type": "code",
   "execution_count": 7,
   "metadata": {},
   "outputs": [
    {
     "name": "stdout",
     "output_type": "stream",
     "text": [
      "Q_5_ANS :- YES ( python code is compiled or interprit)\n"
     ]
    }
   ],
   "source": [
    "print(\"Q_5_ANS :- YES ( python code is compiled or interprit)\")"
   ]
  },
  {
   "cell_type": "code",
   "execution_count": 8,
   "metadata": {},
   "outputs": [
    {
     "name": "stdout",
     "output_type": "stream",
     "text": [
      "Q_6_ANS :- Module , class definition and function body\n"
     ]
    }
   ],
   "source": [
    "print(\"Q_6_ANS :- Module , class definition and function body\")"
   ]
  },
  {
   "cell_type": "code",
   "execution_count": 9,
   "metadata": {},
   "outputs": [
    {
     "name": "stdout",
     "output_type": "stream",
     "text": [
      "Q_7_ANS :- # (Hash) is used to single line comments\n"
     ]
    }
   ],
   "source": [
    "print(\"Q_7_ANS :- # (Hash) is used to single line comments\")\n",
    "#ex :- this is single-line comment"
   ]
  },
  {
   "cell_type": "code",
   "execution_count": 10,
   "metadata": {},
   "outputs": [
    {
     "name": "stdout",
     "output_type": "stream",
     "text": [
      "Q_8_ANS :- python_version() is used to check python current version\n"
     ]
    }
   ],
   "source": [
    "print(\"Q_8_ANS :- python_version() is used to check python current version\")"
   ]
  },
  {
   "cell_type": "code",
   "execution_count": 11,
   "metadata": {},
   "outputs": [
    {
     "name": "stdout",
     "output_type": "stream",
     "text": [
      "Q_9_ANS :- Lambda [Python supports to make anonymous functions which are not bound to a name(@ runtime). This is not exactly the same as lambda in functional programming languages]\n"
     ]
    }
   ],
   "source": [
    "print(\"Q_9_ANS :- Lambda [Python supports to make anonymous functions which are not bound to a name(@ runtime). This is not exactly the same as lambda in functional programming languages]\")"
   ]
  },
  {
   "cell_type": "code",
   "execution_count": 12,
   "metadata": {},
   "outputs": [
    {
     "name": "stdout",
     "output_type": "stream",
     "text": [
      "Q_10_ANS :- pip [Package In Python] it is a stand-tool for installing python packages. (Ex :- pip install python2.7.9)\n"
     ]
    }
   ],
   "source": [
    "print(\"Q_10_ANS :- pip [Package In Python] it is a stand-tool for installing python packages. (Ex :- pip install python2.7.9)\")"
   ]
  },
  {
   "cell_type": "code",
   "execution_count": 13,
   "metadata": {},
   "outputs": [
    {
     "name": "stdout",
     "output_type": "stream",
     "text": [
      "Q_11_ANS :- There are so many built-in function in python like print() [show output] , int()[return interger value], float() [return floating value] , bool() [return boolen value] sum() [add two values] and so on\n"
     ]
    }
   ],
   "source": [
    "print(\"Q_11_ANS :- There are so many built-in function in python like print() [show output] , int()[return interger value], float() [return floating value] , bool() [return boolen value] sum() [add two values] and so on\")"
   ]
  },
  {
   "cell_type": "code",
   "execution_count": 14,
   "metadata": {},
   "outputs": [
    {
     "name": "stdout",
     "output_type": "stream",
     "text": [
      "Q_12_ANS :- maximum length of identifier in python is 79 charactors \n"
     ]
    }
   ],
   "source": [
    "print(\"Q_12_ANS :- maximum length of identifier in python is 79 charactors \")"
   ]
  },
  {
   "cell_type": "code",
   "execution_count": 15,
   "metadata": {},
   "outputs": [
    {
     "name": "stdout",
     "output_type": "stream",
     "text": [
      "Q_13_ANS :- very easy to read and write and understand this language\n"
     ]
    }
   ],
   "source": [
    "print(\"Q_13_ANS :- very easy to read and write and understand this language\")"
   ]
  },
  {
   "cell_type": "code",
   "execution_count": 16,
   "metadata": {},
   "outputs": [
    {
     "name": "stdout",
     "output_type": "stream",
     "text": [
      "Q_14_ANS :- Memory management in python involves a private heap constaining all python object and data structure. the management of this private heap is ensured internally by the python memory manager.\n"
     ]
    }
   ],
   "source": [
    "print(\"Q_14_ANS :- Memory management in python involves a private heap constaining all python object and data structure. the management of this private heap is ensured internally by the python memory manager.\")"
   ]
  },
  {
   "cell_type": "code",
   "execution_count": 17,
   "metadata": {},
   "outputs": [
    {
     "name": "stdout",
     "output_type": "stream",
     "text": [
      "Q_15_ANS :- 1.  Right-clicking This pc and going to properties.  2. clicking on the advanced system setting in the menu on the lift. 3. clicking on the Environment Variables button on the buttom right. 4. in the systen variables section,selecting the Path variable and clicking on Edit.The next screen will show all the directories that are currently a path of the PATH variable. 5. clicking on New and entering python's install directory \n"
     ]
    }
   ],
   "source": [
    "print(\"Q_15_ANS :- 1.  Right-clicking This pc and going to properties.  2. clicking on the advanced system setting in the menu on the lift. 3. clicking on the Environment Variables button on the buttom right. 4. in the systen variables section,selecting the Path variable and clicking on Edit.The next screen will show all the directories that are currently a path of the PATH variable. 5. clicking on New and entering python's install directory \")"
   ]
  },
  {
   "cell_type": "code",
   "execution_count": 18,
   "metadata": {},
   "outputs": [
    {
     "name": "stdout",
     "output_type": "stream",
     "text": [
      "Q_16_ANS :- The 'id' in python stands for identity. Each and every object in python when stored into the memory is being allocated a unique identificatoin number that helps the python compiler to perform better and utilize memory efficiently. Each object has its own unique identity assigned to it as on integer number which differentiates it from other objects.\n"
     ]
    }
   ],
   "source": [
    "print(\"Q_16_ANS :- The 'id' in python stands for identity. Each and every object in python when stored into the memory is being allocated a unique identificatoin number that helps the python compiler to perform better and utilize memory efficiently. Each object has its own unique identity assigned to it as on integer number which differentiates it from other objects.\")"
   ]
  },
  {
   "cell_type": "code",
   "execution_count": null,
   "metadata": {},
   "outputs": [],
   "source": []
  }
 ],
 "metadata": {
  "kernelspec": {
   "display_name": "Python 3.10.0 64-bit",
   "language": "python",
   "name": "python3"
  },
  "language_info": {
   "codemirror_mode": {
    "name": "ipython",
    "version": 3
   },
   "file_extension": ".py",
   "mimetype": "text/x-python",
   "name": "python",
   "nbconvert_exporter": "python",
   "pygments_lexer": "ipython3",
   "version": "3.10.0"
  },
  "orig_nbformat": 4,
  "vscode": {
   "interpreter": {
    "hash": "fdeaa5d4d36968213c2982d2716b964fdcbe01a872db07f82123c6518902f24d"
   }
  }
 },
 "nbformat": 4,
 "nbformat_minor": 2
}
